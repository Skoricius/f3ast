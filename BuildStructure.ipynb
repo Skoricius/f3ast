{
 "cells": [
  {
   "cell_type": "markdown",
   "metadata": {
    "toc": true
   },
   "source": [
    "<h1>Table of Contents<span class=\"tocSkip\"></span></h1>\n",
    "<div class=\"toc\"><ul class=\"toc-item\"><li><span><a href=\"#Import-the-structure-and-settings\" data-toc-modified-id=\"Import-the-structure-and-settings-1\"><span class=\"toc-item-num\">1&nbsp;&nbsp;</span>Import the structure and settings</a></span><ul class=\"toc-item\"><li><span><a href=\"#Show-the-slices\" data-toc-modified-id=\"Show-the-slices-1.1\"><span class=\"toc-item-num\">1.1&nbsp;&nbsp;</span>Show the slices</a></span></li></ul></li><li><span><a href=\"#Define-the-model-and-solve-for-dwells\" data-toc-modified-id=\"Define-the-model-and-solve-for-dwells-2\"><span class=\"toc-item-num\">2&nbsp;&nbsp;</span>Define the model and solve for dwells</a></span></li><li><span><a href=\"#Save-the-stream\" data-toc-modified-id=\"Save-the-stream-3\"><span class=\"toc-item-num\">3&nbsp;&nbsp;</span>Save the stream</a></span><ul class=\"toc-item\"><li><span><a href=\"#Load-the-stream\" data-toc-modified-id=\"Load-the-stream-3.1\"><span class=\"toc-item-num\">3.1&nbsp;&nbsp;</span>Load the stream</a></span></li></ul></li></ul></div>"
   ]
  },
  {
   "cell_type": "code",
   "execution_count": 11,
   "metadata": {},
   "outputs": [],
   "source": [
    "%matplotlib qt\n",
    "import f3ast\n",
    "from f3ast import deep_reload\n",
    "deep_reload(f3ast)\n",
    "from f3ast import *\n",
    "from time import time"
   ]
  },
  {
   "cell_type": "markdown",
   "metadata": {},
   "source": [
    "### Import the structure and settings"
   ]
  },
  {
   "cell_type": "code",
   "execution_count": 12,
   "metadata": {},
   "outputs": [],
   "source": [
    "# file_path = 'testing/FunktyBall.stl'\n",
    "file_path = 'testing/temp_testing_struct_1px.stl'\n",
    "\n",
    "settings = load_settings()\n",
    "struct = Structure.from_file(file_path, **settings[\"structure\"])\n",
    "# struct.rescale(5)\n",
    "# struct.show()\n",
    "# struct.plot_mpl()"
   ]
  },
  {
   "cell_type": "markdown",
   "metadata": {},
   "source": [
    "#### Show the slices"
   ]
  },
  {
   "cell_type": "code",
   "execution_count": 13,
   "metadata": {},
   "outputs": [
    {
     "name": "stdout",
     "output_type": "stream",
     "text": [
      "Slicing...\n",
      "Sliced\n",
      "4.544237375259399\n"
     ]
    }
   ],
   "source": [
    "struct = Structure.from_file(file_path, **settings[\"structure\"])\n",
    "t0 = time()\n",
    "struct.generate_slices()\n",
    "print(time()-t0)"
   ]
  },
  {
   "cell_type": "code",
   "execution_count": 14,
   "metadata": {
    "scrolled": false
   },
   "outputs": [
    {
     "data": {
      "text/plain": [
       "(<Axes3D:>, <mpl_toolkits.mplot3d.art3d.Path3DCollection at 0x25aa84ddf70>)"
      ]
     },
     "execution_count": 14,
     "metadata": {},
     "output_type": "execute_result"
    }
   ],
   "source": [
    "struct.plot_slices()"
   ]
  },
  {
   "cell_type": "markdown",
   "metadata": {},
   "source": [
    "### Define the model and solve for dwells"
   ]
  },
  {
   "cell_type": "code",
   "execution_count": 15,
   "metadata": {},
   "outputs": [
    {
     "name": "stdout",
     "output_type": "stream",
     "text": [
      "Solving for dwells...\n",
      "Solved\n",
      "4.598791122436523\n",
      "Total stream time:  0:00:13.466647\n"
     ]
    }
   ],
   "source": [
    "gr = 0.15\n",
    "k = 0\n",
    "sigma = 4.4\n",
    "model = DDModel(struct, gr, k, sigma, **settings['dd_model'])\n",
    "\n",
    "t0 = time()\n",
    "stream_builder, dwell_solver = StreamBuilder.from_model(model, **settings['stream_builder'])\n",
    "print(time()-t0)\n",
    "dwell_solver.print_total_time()"
   ]
  },
  {
   "cell_type": "code",
   "execution_count": 5,
   "metadata": {},
   "outputs": [],
   "source": [
    "ax, sc = dwell_solver.show_solution()"
   ]
  },
  {
   "cell_type": "code",
   "execution_count": 16,
   "metadata": {},
   "outputs": [
    {
     "data": {
      "text/plain": [
       "<matplotlib.colorbar.Colorbar at 0x25aa6c66bb0>"
      ]
     },
     "execution_count": 16,
     "metadata": {},
     "output_type": "execute_result"
    }
   ],
   "source": [
    "resistance = model.resistance\n",
    "ax, sc = struct.plot_slices(c=np.concatenate(resistance), cmap='hot')\n",
    "plt.colorbar(sc, shrink=0.8)"
   ]
  },
  {
   "cell_type": "markdown",
   "metadata": {},
   "source": [
    "### Save the stream"
   ]
  },
  {
   "cell_type": "code",
   "execution_count": 8,
   "metadata": {},
   "outputs": [],
   "source": [
    "save_path = 'test1'\n",
    "\n",
    "strm = stream_builder.get_stream()\n",
    "strm.write(save_path)\n",
    "save_build(save_path, dwell_solver, stream_builder)"
   ]
  },
  {
   "cell_type": "markdown",
   "metadata": {},
   "source": [
    "#### Load the stream"
   ]
  },
  {
   "cell_type": "code",
   "execution_count": 11,
   "metadata": {},
   "outputs": [],
   "source": [
    "load_path = 'test1.pickle'\n",
    "strm.from_file('test1.str')\n",
    "dwell_solver, stream_builder = load_build(load_path)"
   ]
  },
  {
   "cell_type": "code",
   "execution_count": null,
   "metadata": {},
   "outputs": [],
   "source": []
  }
 ],
 "metadata": {
  "kernelspec": {
   "display_name": "Python 3",
   "language": "python",
   "name": "python3"
  },
  "language_info": {
   "codemirror_mode": {
    "name": "ipython",
    "version": 3
   },
   "file_extension": ".py",
   "mimetype": "text/x-python",
   "name": "python",
   "nbconvert_exporter": "python",
   "pygments_lexer": "ipython3",
   "version": "3.8.5"
  },
  "toc": {
   "base_numbering": 1,
   "nav_menu": {},
   "number_sections": true,
   "sideBar": true,
   "skip_h1_title": false,
   "title_cell": "Table of Contents",
   "title_sidebar": "Contents",
   "toc_cell": true,
   "toc_position": {},
   "toc_section_display": true,
   "toc_window_display": false
  }
 },
 "nbformat": 4,
 "nbformat_minor": 5
}
