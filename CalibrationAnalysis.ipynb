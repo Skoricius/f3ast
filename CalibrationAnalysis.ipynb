{
 "cells": [
  {
   "cell_type": "markdown",
   "id": "ba2ec09d",
   "metadata": {
    "toc": true
   },
   "source": [
    "<h1>Table of Contents<span class=\"tocSkip\"></span></h1>\n",
    "<div class=\"toc\"><ul class=\"toc-item\"><li><span><a href=\"#Export-calibration-stream\" data-toc-modified-id=\"Export-calibration-stream-1\"><span class=\"toc-item-num\">1&nbsp;&nbsp;</span>Export calibration stream</a></span></li><li><span><a href=\"#Get-the-image-and-the-data\" data-toc-modified-id=\"Get-the-image-and-the-data-2\"><span class=\"toc-item-num\">2&nbsp;&nbsp;</span>Get the image and the data</a></span></li><li><span><a href=\"#Set-the-scale\" data-toc-modified-id=\"Set-the-scale-3\"><span class=\"toc-item-num\">3&nbsp;&nbsp;</span>Set the scale</a></span></li><li><span><a href=\"#Process-calibration-image\" data-toc-modified-id=\"Process-calibration-image-4\"><span class=\"toc-item-num\">4&nbsp;&nbsp;</span>Process calibration image</a></span></li><li><span><a href=\"#Fit-the-model\" data-toc-modified-id=\"Fit-the-model-5\"><span class=\"toc-item-num\">5&nbsp;&nbsp;</span>Fit the model</a></span></li></ul></div>"
   ]
  },
  {
   "cell_type": "code",
   "execution_count": 1,
   "id": "e48e2771",
   "metadata": {},
   "outputs": [],
   "source": [
    "%matplotlib qt\n",
    "import f3st\n",
    "from f3st import deep_reload\n",
    "deep_reload(f3st)\n",
    "from f3st.calibration import *\n",
    "from f3st.deposit_model import *\n",
    "from f3st.utils import \n",
    "\n",
    "import matplotlib.pyplot as plt"
   ]
  },
  {
   "cell_type": "markdown",
   "id": "ce877e3c",
   "metadata": {},
   "source": [
    "### Export calibration stream"
   ]
  },
  {
   "cell_type": "code",
   "execution_count": 3,
   "id": "2f85c1e8",
   "metadata": {},
   "outputs": [],
   "source": [
    "calib_strm_savepath = 'testing'\n",
    "# add create safe savename and the wide calibration\n",
    "export_spot_calibration(calib_strm_savepath, start_time=1, end_time=15, grid=[5, 3])"
   ]
  },
  {
   "cell_type": "markdown",
   "id": "e7657109",
   "metadata": {},
   "source": [
    "### Get the image and the data"
   ]
  },
  {
   "cell_type": "code",
   "execution_count": 215,
   "id": "1a266495",
   "metadata": {},
   "outputs": [
    {
     "data": {
      "text/plain": [
       "<matplotlib.image.AxesImage at 0x23555a17f70>"
      ]
     },
     "execution_count": 215,
     "metadata": {},
     "output_type": "execute_result"
    }
   ],
   "source": [
    "img_path = 'testing\\calib1_001.tif'\n",
    "data_path = 'testing\\calib25-11-19_data.txt'\n",
    "observing_angle = 45\n",
    "\n",
    "data = np.loadtxt(data_path, delimiter='\\t', skiprows=1)\n",
    "img = read_image(img_path)\n",
    "plt.imshow(img)"
   ]
  },
  {
   "cell_type": "markdown",
   "id": "94b51826",
   "metadata": {},
   "source": [
    "### Set the scale"
   ]
  },
  {
   "cell_type": "code",
   "execution_count": 216,
   "id": "7b6b4c45",
   "metadata": {},
   "outputs": [
    {
     "name": "stdout",
     "output_type": "stream",
     "text": [
      "82, 21\n",
      "402, 22\n"
     ]
    }
   ],
   "source": [
    "tracker = select_scale(img)"
   ]
  },
  {
   "cell_type": "code",
   "execution_count": 222,
   "id": "1126070b",
   "metadata": {},
   "outputs": [
    {
     "name": "stdout",
     "output_type": "stream",
     "text": [
      "Pixels per nanometer:  159.76774193548385\n"
     ]
    }
   ],
   "source": [
    "scale_bar_size = 2 # in um\n",
    "\n",
    "scale_bar_px = np.abs(tracker.scale_markers[1] - tracker.scale_markers[0])\n",
    "ppn = scale_bar_px / scale_bar_size\n",
    "print('Pixels per nanometer: ', ppn)"
   ]
  },
  {
   "cell_type": "markdown",
   "id": "cc56bd8b",
   "metadata": {},
   "source": [
    "### Process calibration image"
   ]
  },
  {
   "cell_type": "code",
   "execution_count": 218,
   "id": "aa813127",
   "metadata": {
    "scrolled": true
   },
   "outputs": [
    {
     "data": {
      "text/plain": [
       "<matplotlib.image.AxesImage at 0x23536737550>"
      ]
     },
     "execution_count": 218,
     "metadata": {},
     "output_type": "execute_result"
    }
   ],
   "source": [
    "# remove the bar and threshold the image\n",
    "img_nobar = remove_bottom_bar(img)\n",
    "img_thresh = threshold_image(img_nobar, thresh=None)\n",
    "# try_all_threshold(img_smooth)\n",
    "plt.imshow(img_thresh)"
   ]
  },
  {
   "cell_type": "code",
   "execution_count": 219,
   "id": "15df2eec",
   "metadata": {},
   "outputs": [
    {
     "data": {
      "text/plain": [
       "<matplotlib.image.AxesImage at 0x235368e1f40>"
      ]
     },
     "execution_count": 219,
     "metadata": {},
     "output_type": "execute_result"
    }
   ],
   "source": [
    "# label image regions\n",
    "label_image, image_label_overlay = get_labelled_image(img_thresh)\n",
    "labels = filter_small_labels(label_image)\n",
    "image_label_overlay = label2rgb(label_image, image=img_thresh, bg_label=0)\n",
    "plt.imshow(image_label_overlay)"
   ]
  },
  {
   "cell_type": "code",
   "execution_count": 223,
   "id": "6a722404",
   "metadata": {},
   "outputs": [],
   "source": [
    "# get lengths of the structures\n",
    "lengths_px = get_lengths_px(label_image)\n",
    "lengths_perspective = np.sort(lengths_px) / ppn\n",
    "lengths_true = lengths_perspective / np.sin(np.deg2rad(observing_angle))\n",
    "dwell_times = data[-lengths.size:, 0]"
   ]
  },
  {
   "cell_type": "markdown",
   "id": "980b3da6",
   "metadata": {},
   "source": [
    "### Fit the model"
   ]
  },
  {
   "cell_type": "code",
   "execution_count": 243,
   "id": "9f381195",
   "metadata": {},
   "outputs": [
    {
     "name": "stdout",
     "output_type": "stream",
     "text": [
      "GR:  0.20040780644948566\n",
      "k:  1.124924446842553\n"
     ]
    }
   ],
   "source": [
    "# fit the deposit model and get the parameters\n",
    "deposit_model, popt, _ = DDModel.fit_calibration(dwell_times, lengths_true)\n",
    "\n",
    "t = np.linspace(0, np.max(dwell_times), 1000)\n",
    "plt.plot(t, deposit_model(t, *popt), color='tab:orange', linewidth=2)\n",
    "plt.scatter(dwell_times, lengths_true)\n",
    "plt.xlabel('t [s]')\n",
    "plt.ylabel(r'Length [$\\mu$m]');"
   ]
  },
  {
   "cell_type": "code",
   "execution_count": 260,
   "id": "29a4877c",
   "metadata": {},
   "outputs": [],
   "source": [
    "addressable_pixels=[65536, 56576]\n",
    "grid=[5, 3]\n",
    "xstep, ystep = np.array(addressable_pixels) * 0.8 / np.array(grid)\n",
    "x = np.arange(grid[0])*xstep\n",
    "y = np.arange(grid[1])*ystep\n",
    "\n",
    "\n",
    "# np.grid"
   ]
  },
  {
   "cell_type": "code",
   "execution_count": 261,
   "id": "24df4aa7",
   "metadata": {},
   "outputs": [],
   "source": [
    "xygrid = np.meshgrid(x, y)"
   ]
  },
  {
   "cell_type": "code",
   "execution_count": 267,
   "id": "034129a6",
   "metadata": {},
   "outputs": [
    {
     "data": {
      "text/plain": [
       "array([20971.52,     0.  ])"
      ]
     },
     "execution_count": 267,
     "metadata": {},
     "output_type": "execute_result"
    }
   ],
   "source": [
    "np.array(xygrid).reshape(2, 15)"
   ]
  },
  {
   "cell_type": "code",
   "execution_count": 269,
   "id": "69fc2174",
   "metadata": {},
   "outputs": [
    {
     "data": {
      "text/plain": [
       "array([9, 5, 6, 3, 2, 4, 1, 7, 0, 8])"
      ]
     },
     "execution_count": 269,
     "metadata": {},
     "output_type": "execute_result"
    }
   ],
   "source": [
    "t = np.arange(10)\n",
    "np.random.shuffle(t)\n",
    "t"
   ]
  },
  {
   "cell_type": "code",
   "execution_count": 251,
   "id": "b5c1cf7e",
   "metadata": {},
   "outputs": [
    {
     "data": {
      "text/plain": [
       "10485.76"
      ]
     },
     "execution_count": 251,
     "metadata": {},
     "output_type": "execute_result"
    }
   ],
   "source": [
    "65536*0.8/5"
   ]
  },
  {
   "cell_type": "code",
   "execution_count": 550,
   "id": "cac31ec6",
   "metadata": {},
   "outputs": [],
   "source": [
    "\n",
    "deep_reload(f3st)\n",
    "from f3st import *\n",
    "from f3st.calibration.vertical_structures import *"
   ]
  },
  {
   "cell_type": "code",
   "execution_count": 547,
   "id": "da32247a",
   "metadata": {},
   "outputs": [
    {
     "name": "stdout",
     "output_type": "stream",
     "text": [
      "120000.0\n"
     ]
    }
   ],
   "source": []
  }
 ],
 "metadata": {
  "kernelspec": {
   "display_name": "Python 3",
   "language": "python",
   "name": "python3"
  },
  "language_info": {
   "codemirror_mode": {
    "name": "ipython",
    "version": 3
   },
   "file_extension": ".py",
   "mimetype": "text/x-python",
   "name": "python",
   "nbconvert_exporter": "python",
   "pygments_lexer": "ipython3",
   "version": "3.8.5"
  },
  "toc": {
   "base_numbering": 1,
   "nav_menu": {},
   "number_sections": true,
   "sideBar": true,
   "skip_h1_title": false,
   "title_cell": "Table of Contents",
   "title_sidebar": "Contents",
   "toc_cell": true,
   "toc_position": {},
   "toc_section_display": true,
   "toc_window_display": false
  }
 },
 "nbformat": 4,
 "nbformat_minor": 5
}
