{
 "cells": [
  {
   "cell_type": "markdown",
   "id": "45459cea",
   "metadata": {
    "toc": true
   },
   "source": [
    "<h1>Table of Contents<span class=\"tocSkip\"></span></h1>\n",
    "<div class=\"toc\"><ul class=\"toc-item\"><li><span><a href=\"#Export-calibration-stream\" data-toc-modified-id=\"Export-calibration-stream-1\"><span class=\"toc-item-num\">1&nbsp;&nbsp;</span>Export calibration stream</a></span></li><li><span><a href=\"#Get-the-image-and-the-data\" data-toc-modified-id=\"Get-the-image-and-the-data-2\"><span class=\"toc-item-num\">2&nbsp;&nbsp;</span>Get the image and the data</a></span></li><li><span><a href=\"#Set-the-scale\" data-toc-modified-id=\"Set-the-scale-3\"><span class=\"toc-item-num\">3&nbsp;&nbsp;</span>Set the scale</a></span></li><li><span><a href=\"#Process-calibration-image\" data-toc-modified-id=\"Process-calibration-image-4\"><span class=\"toc-item-num\">4&nbsp;&nbsp;</span>Process calibration image</a></span></li><li><span><a href=\"#Fit-the-model\" data-toc-modified-id=\"Fit-the-model-5\"><span class=\"toc-item-num\">5&nbsp;&nbsp;</span>Fit the model</a></span></li><li><span><a href=\"#Get-the-sigma-calibration-structures-if-necessary\" data-toc-modified-id=\"Get-the-sigma-calibration-structures-if-necessary-6\"><span class=\"toc-item-num\">6&nbsp;&nbsp;</span>Get the sigma calibration structures if necessary</a></span></li></ul></div>"
   ]
  },
  {
   "cell_type": "code",
   "execution_count": 38,
   "id": "fda65af0",
   "metadata": {},
   "outputs": [],
   "source": [
    "%matplotlib qt\n",
    "import f3ast\n",
    "from f3ast import deep_reload\n",
    "deep_reload(f3ast)\n",
    "from f3ast import *\n",
    "\n",
    "import matplotlib.pyplot as plt"
   ]
  },
  {
   "cell_type": "markdown",
   "id": "70ab8405",
   "metadata": {},
   "source": [
    "### Export calibration stream"
   ]
  },
  {
   "cell_type": "code",
   "execution_count": 39,
   "id": "a16a434a",
   "metadata": {},
   "outputs": [
    {
     "name": "stdout",
     "output_type": "stream",
     "text": [
      "Total time:  0:02:00\n"
     ]
    }
   ],
   "source": [
    "calib_strm_savepath = 'calibstrm'\n",
    "\n",
    "# create safe filename to prevent overwriting\n",
    "calib_strm_savepath = create_safe_savename(calib_strm_savepath)\n",
    "export_spot_calibration(calib_strm_savepath, start_time=1, end_time=15, grid=[5, 3])"
   ]
  },
  {
   "cell_type": "markdown",
   "id": "36b00c7f",
   "metadata": {},
   "source": [
    "### Get the image and the data"
   ]
  },
  {
   "cell_type": "code",
   "execution_count": 3,
   "id": "2167d6e4",
   "metadata": {},
   "outputs": [
    {
     "data": {
      "text/plain": [
       "<matplotlib.image.AxesImage at 0x1fb5f1c9040>"
      ]
     },
     "execution_count": 3,
     "metadata": {},
     "output_type": "execute_result"
    }
   ],
   "source": [
    "img_path = 'testing\\calib1_001.tif'\n",
    "data_path = 'testing\\calib25-11-19_data.txt'\n",
    "observing_angle = 45\n",
    "\n",
    "data = np.loadtxt(data_path, delimiter='\\t', skiprows=1)\n",
    "dwell_times = data[:, 0]\n",
    "\n",
    "img = read_image(img_path)\n",
    "plt.imshow(img)"
   ]
  },
  {
   "cell_type": "markdown",
   "id": "80ee069f",
   "metadata": {},
   "source": [
    "### Set the scale"
   ]
  },
  {
   "cell_type": "code",
   "execution_count": 4,
   "id": "33974bc0",
   "metadata": {},
   "outputs": [
    {
     "name": "stdout",
     "output_type": "stream",
     "text": [
      "81, 23\n",
      "402, 23\n"
     ]
    }
   ],
   "source": [
    "tracker = select_scale(img)"
   ]
  },
  {
   "cell_type": "code",
   "execution_count": 5,
   "id": "761eb6f8",
   "metadata": {},
   "outputs": [
    {
     "name": "stdout",
     "output_type": "stream",
     "text": [
      "Pixels per nanometer:  160.56129032258065\n"
     ]
    }
   ],
   "source": [
    "scale_bar_size = 2 # in um\n",
    "\n",
    "scale_bar_px = np.abs(tracker.scale_markers[1] - tracker.scale_markers[0])\n",
    "ppn = scale_bar_px / scale_bar_size\n",
    "print('Pixels per nanometer: ', ppn)"
   ]
  },
  {
   "cell_type": "markdown",
   "id": "a6c14d3e",
   "metadata": {},
   "source": [
    "### Process calibration image"
   ]
  },
  {
   "cell_type": "code",
   "execution_count": 6,
   "id": "5c9d71d8",
   "metadata": {
    "scrolled": true
   },
   "outputs": [
    {
     "data": {
      "text/plain": [
       "<matplotlib.image.AxesImage at 0x1fb5f273b50>"
      ]
     },
     "execution_count": 6,
     "metadata": {},
     "output_type": "execute_result"
    }
   ],
   "source": [
    "# remove the bar and threshold the image\n",
    "img_nobar = remove_bottom_bar(img)\n",
    "img_thresh = threshold_image(img_nobar, thresh=None)\n",
    "# try_all_threshold(img_smooth)\n",
    "plt.imshow(img_thresh)"
   ]
  },
  {
   "cell_type": "code",
   "execution_count": 8,
   "id": "b2bcc0f9",
   "metadata": {},
   "outputs": [
    {
     "data": {
      "text/plain": [
       "<matplotlib.image.AxesImage at 0x1fb5f264700>"
      ]
     },
     "execution_count": 8,
     "metadata": {},
     "output_type": "execute_result"
    }
   ],
   "source": [
    "# label image regions\n",
    "label_image, image_label_overlay = get_labelled_image(img_thresh)\n",
    "labels = filter_small_labels(label_image)\n",
    "image_label_overlay = label2rgb(label_image, image=img_thresh, bg_label=0)\n",
    "plt.imshow(image_label_overlay)"
   ]
  },
  {
   "cell_type": "code",
   "execution_count": 9,
   "id": "52fbf5ab",
   "metadata": {},
   "outputs": [],
   "source": [
    "# get lengths of the structures\n",
    "lengths_px = get_lengths_px(label_image)\n",
    "lengths_perspective = np.sort(lengths_px) / ppn\n",
    "lengths_true = lengths_perspective / np.sin(np.deg2rad(observing_angle))\n",
    "dwell_times = dwell_times[-lengths_true.size:]"
   ]
  },
  {
   "cell_type": "markdown",
   "id": "496664ff",
   "metadata": {},
   "source": [
    "### Fit the model"
   ]
  },
  {
   "cell_type": "code",
   "execution_count": 11,
   "id": "7f717e5e",
   "metadata": {},
   "outputs": [
    {
     "name": "stdout",
     "output_type": "stream",
     "text": [
      "GR:  0.19941732310714613\n",
      "k:  1.130511820504351\n"
     ]
    }
   ],
   "source": [
    "# fit the deposit model and get the parameters\n",
    "deposit_model, popt, _ = DDModel.fit_calibration(dwell_times, lengths_true)\n",
    "\n",
    "t = np.linspace(0, np.max(dwell_times), 1000)\n",
    "plt.figure()\n",
    "plt.plot(t, deposit_model(t, *popt), color='tab:orange', linewidth=2)\n",
    "plt.scatter(dwell_times, lengths_true)\n",
    "plt.xlabel('t [s]')\n",
    "plt.ylabel(r'Length [$\\mu$m]');"
   ]
  },
  {
   "cell_type": "markdown",
   "id": "1e631b4c",
   "metadata": {},
   "source": [
    "### Get the sigma calibration structures if necessary"
   ]
  },
  {
   "cell_type": "code",
   "execution_count": 25,
   "id": "95587faf",
   "metadata": {
    "scrolled": false
   },
   "outputs": [
    {
     "name": "stdout",
     "output_type": "stream",
     "text": [
      "Slicing...\n"
     ]
    },
    {
     "name": "stderr",
     "output_type": "stream",
     "text": [
      "377it [00:00, 608.31it/s]\n",
      "377it [00:09, 41.09it/s]\n",
      "377it [00:06, 54.94it/s]\n",
      "377it [00:07, 47.35it/s]\n"
     ]
    },
    {
     "name": "stdout",
     "output_type": "stream",
     "text": [
      "Slicing...\n"
     ]
    },
    {
     "name": "stderr",
     "output_type": "stream",
     "text": [
      "377it [00:00, 426.41it/s]\n"
     ]
    },
    {
     "name": "stdout",
     "output_type": "stream",
     "text": [
      "0:01:33.859027\n"
     ]
    }
   ],
   "source": [
    "# model = DDModel(gr=popt[0], k=popt[1], sigma=None)\n",
    "model = RRLModel(None, gr=popt[0], sigma=None)\n",
    "sigma_list = [3, 4, 5, 6]\n",
    "file_path = \"sigma_calib\"\n",
    "\n",
    "sigma_strm = get_sigma_structures(model, sigma_list)\n",
    "sigma_strm.print_time()\n",
    "\n",
    "sigma_strm.write(create_safe_savename(file_path))"
   ]
  },
  {
   "cell_type": "code",
   "execution_count": 26,
   "id": "e788a1cf",
   "metadata": {},
   "outputs": [],
   "source": [
    "sigma_strm.show_on_screen()"
   ]
  },
  {
   "cell_type": "code",
   "execution_count": null,
   "id": "a5ba586e",
   "metadata": {},
   "outputs": [],
   "source": []
  }
 ],
 "metadata": {
  "kernelspec": {
   "display_name": "Python 3",
   "language": "python",
   "name": "python3"
  },
  "language_info": {
   "codemirror_mode": {
    "name": "ipython",
    "version": 3
   },
   "file_extension": ".py",
   "mimetype": "text/x-python",
   "name": "python",
   "nbconvert_exporter": "python",
   "pygments_lexer": "ipython3",
   "version": "3.8.5"
  },
  "toc": {
   "base_numbering": 1,
   "nav_menu": {},
   "number_sections": true,
   "sideBar": true,
   "skip_h1_title": false,
   "title_cell": "Table of Contents",
   "title_sidebar": "Contents",
   "toc_cell": true,
   "toc_position": {},
   "toc_section_display": true,
   "toc_window_display": false
  }
 },
 "nbformat": 4,
 "nbformat_minor": 5
}
