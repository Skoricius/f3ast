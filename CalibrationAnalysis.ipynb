{
 "cells": [
  {
   "cell_type": "code",
   "execution_count": 3,
   "metadata": {},
   "outputs": [],
   "source": [
    "%matplotlib qt\n",
    "import f3ast\n",
    "from f3ast import deep_reload\n",
    "deep_reload(f3ast)\n",
    "from f3ast import *\n",
    "\n",
    "import matplotlib.pyplot as plt"
   ]
  },
  {
   "cell_type": "markdown",
   "metadata": {},
   "source": [
    "### Export calibration stream"
   ]
  },
  {
   "cell_type": "code",
   "execution_count": 4,
   "metadata": {},
   "outputs": [
    {
     "name": "stdout",
     "output_type": "stream",
     "text": [
      "Total time:  0:02:00\n",
      "Saved at:  calibstrm\n"
     ]
    }
   ],
   "source": [
    "calib_strm_savepath = 'calibstrm'\n",
    "\n",
    "# create safe filename to prevent overwriting\n",
    "calib_strm_savepath = create_safe_savename(calib_strm_savepath)\n",
    "export_spot_calibration(calib_strm_savepath, start_time=1, end_time=15, grid=[5, 3])\n",
    "print('Saved at: ', calib_strm_savepath)"
   ]
  },
  {
   "cell_type": "markdown",
   "metadata": {},
   "source": [
    "### Get the image and the data"
   ]
  },
  {
   "cell_type": "code",
   "execution_count": 6,
   "metadata": {},
   "outputs": [
    {
     "data": {
      "text/plain": [
       "<matplotlib.image.AxesImage at 0x223d6f04520>"
      ]
     },
     "execution_count": 6,
     "metadata": {},
     "output_type": "execute_result"
    }
   ],
   "source": [
    "img_path = 'testing\\calib1_001.tif'\n",
    "data_path = 'testing\\calib25-11-19_data.txt'\n",
    "observing_angle = 45\n",
    "\n",
    "data = np.loadtxt(data_path, delimiter='\\t', skiprows=1)\n",
    "dwell_times = data[:, 0]\n",
    "\n",
    "img = read_image(img_path)\n",
    "plt.imshow(img)"
   ]
  },
  {
   "cell_type": "markdown",
   "metadata": {},
   "source": [
    "### Set the scale"
   ]
  },
  {
   "cell_type": "code",
   "execution_count": 7,
   "metadata": {},
   "outputs": [
    {
     "name": "stdout",
     "output_type": "stream",
     "text": [
      "82, 22\n",
      "402, 22\n"
     ]
    }
   ],
   "source": [
    "tracker = select_scale(img)"
   ]
  },
  {
   "cell_type": "code",
   "execution_count": 8,
   "metadata": {},
   "outputs": [
    {
     "name": "stdout",
     "output_type": "stream",
     "text": [
      "Pixels per nanometer:  160.2967741935484\n"
     ]
    }
   ],
   "source": [
    "scale_bar_size = 2 # in um\n",
    "\n",
    "scale_bar_px = np.abs(tracker.scale_markers[1] - tracker.scale_markers[0])\n",
    "ppn = scale_bar_px / scale_bar_size\n",
    "print('Pixels per nanometer: ', ppn)"
   ]
  },
  {
   "cell_type": "markdown",
   "metadata": {},
   "source": [
    "### Process calibration image"
   ]
  },
  {
   "cell_type": "code",
   "execution_count": 15,
   "metadata": {
    "scrolled": true
   },
   "outputs": [
    {
     "data": {
      "text/plain": [
       "<matplotlib.image.AxesImage at 0x223dacf8880>"
      ]
     },
     "execution_count": 15,
     "metadata": {},
     "output_type": "execute_result"
    }
   ],
   "source": [
    "# remove the bar and threshold the image\n",
    "img_nobar = remove_bottom_bar(img)\n",
    "img_thresh = threshold_image(img_nobar, thresh=None) # change none to a value 0-1 to adjust if doesn't work well\n",
    "# try_all_threshold(img_smooth)\n",
    "plt.imshow(img_thresh)"
   ]
  },
  {
   "cell_type": "code",
   "execution_count": 16,
   "metadata": {},
   "outputs": [
    {
     "data": {
      "text/plain": [
       "<matplotlib.image.AxesImage at 0x223daead340>"
      ]
     },
     "execution_count": 16,
     "metadata": {},
     "output_type": "execute_result"
    }
   ],
   "source": [
    "# label image regions\n",
    "label_image, image_label_overlay = get_labelled_image(img_thresh)\n",
    "labels = filter_small_labels(label_image)\n",
    "image_label_overlay = label2rgb(label_image, image=img_thresh, bg_label=0)\n",
    "plt.imshow(image_label_overlay)"
   ]
  },
  {
   "cell_type": "code",
   "execution_count": 17,
   "metadata": {},
   "outputs": [],
   "source": [
    "# get lengths of the structures\n",
    "lengths_px = get_lengths_px(label_image)\n",
    "lengths_perspective = np.sort(lengths_px) / ppn\n",
    "lengths_true = lengths_perspective / np.sin(np.deg2rad(observing_angle))\n",
    "dwell_times = dwell_times[-lengths_true.size:]"
   ]
  },
  {
   "cell_type": "markdown",
   "metadata": {},
   "source": [
    "### Fit the model"
   ]
  },
  {
   "cell_type": "code",
   "execution_count": 18,
   "metadata": {},
   "outputs": [
    {
     "name": "stdout",
     "output_type": "stream",
     "text": [
      "GR:  0.19974639470804992\n",
      "k:  1.128649363616023\n"
     ]
    }
   ],
   "source": [
    "# fit the deposit model and get the parameters\n",
    "deposit_model, popt, _ = DDModel.fit_calibration(dwell_times, lengths_true)\n",
    "\n",
    "t = np.linspace(0, np.max(dwell_times), 1000)\n",
    "plt.figure()\n",
    "plt.plot(t, deposit_model(t, *popt), color='tab:orange', linewidth=2)\n",
    "plt.scatter(dwell_times, lengths_true)\n",
    "plt.xlabel('t [s]')\n",
    "plt.ylabel(r'Length [$\\mu$m]');"
   ]
  },
  {
   "cell_type": "markdown",
   "metadata": {},
   "source": [
    "### Get the sigma calibration structures if necessary"
   ]
  },
  {
   "cell_type": "code",
   "execution_count": 24,
   "metadata": {
    "scrolled": false
   },
   "outputs": [
    {
     "name": "stdout",
     "output_type": "stream",
     "text": [
      "Slicing...\n",
      "Sliced\n",
      "Solving for dwells...\n",
      "Solved\n",
      "Solving for dwells...\n",
      "Solved\n",
      "Solving for dwells...\n",
      "Solved\n",
      "Solving for dwells...\n",
      "Solved\n",
      "Slicing...\n",
      "Sliced\n",
      "Solving for dwells...\n",
      "Solved\n",
      "Total time:  0:01:37.297962\n"
     ]
    }
   ],
   "source": [
    "model = DDModel(None, gr=popt[0], k=popt[1], sigma=None, get_parameters=False)\n",
    "# model = RRLModel(None, gr=popt[0], sigma=None)\n",
    "sigma_list = [4, 5, 6, 7]\n",
    "file_path = \"sigma_calib\"\n",
    "\n",
    "sigma_strm = get_sigma_structures(model, sigma_list)\n",
    "sigma_strm.print_time()\n",
    "\n",
    "sigma_strm.write(create_safe_savename(file_path))"
   ]
  },
  {
   "cell_type": "code",
   "execution_count": 22,
   "metadata": {},
   "outputs": [],
   "source": [
    "sigma_strm.show_on_screen()"
   ]
  },
  {
   "cell_type": "code",
   "execution_count": null,
   "metadata": {},
   "outputs": [],
   "source": []
  }
 ],
 "metadata": {
  "kernelspec": {
   "display_name": "Python 3",
   "language": "python",
   "name": "python3"
  },
  "language_info": {
   "codemirror_mode": {
    "name": "ipython",
    "version": 3
   },
   "file_extension": ".py",
   "mimetype": "text/x-python",
   "name": "python",
   "nbconvert_exporter": "python",
   "pygments_lexer": "ipython3",
   "version": "3.8.5"
  },
  "toc": {
   "base_numbering": 1,
   "nav_menu": {},
   "number_sections": true,
   "sideBar": true,
   "skip_h1_title": false,
   "title_cell": "Table of Contents",
   "title_sidebar": "Contents",
   "toc_cell": true,
   "toc_position": {},
   "toc_section_display": true,
   "toc_window_display": false
  }
 },
 "nbformat": 4,
 "nbformat_minor": 5
}
