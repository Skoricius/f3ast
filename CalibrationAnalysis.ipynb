{
 "cells": [
  {
   "cell_type": "code",
   "execution_count": 13,
   "id": "fda65af0",
   "metadata": {},
   "outputs": [],
   "source": [
    "%matplotlib qt\n",
    "import f3ast\n",
    "from f3ast import deep_reload\n",
    "deep_reload(f3ast)\n",
    "from f3ast import *\n",
    "\n",
    "import matplotlib.pyplot as plt"
   ]
  },
  {
   "cell_type": "markdown",
   "id": "70ab8405",
   "metadata": {},
   "source": [
    "### Export calibration stream"
   ]
  },
  {
   "cell_type": "code",
   "execution_count": 3,
   "id": "a16a434a",
   "metadata": {},
   "outputs": [
    {
     "name": "stdout",
     "output_type": "stream",
     "text": [
      "Total time:  0:02:00\n"
     ]
    }
   ],
   "source": [
    "calib_strm_savepath = 'calibstrm'\n",
    "\n",
    "# create safe filename to prevent overwriting\n",
    "calib_strm_savepath = create_safe_savename(calib_strm_savepath)\n",
    "export_spot_calibration(calib_strm_savepath, start_time=1, end_time=15, grid=[5, 3])"
   ]
  },
  {
   "cell_type": "markdown",
   "id": "36b00c7f",
   "metadata": {},
   "source": [
    "### Get the image and the data"
   ]
  },
  {
   "cell_type": "code",
   "execution_count": 14,
   "id": "2167d6e4",
   "metadata": {},
   "outputs": [
    {
     "data": {
      "text/plain": [
       "<matplotlib.image.AxesImage at 0x236873afdf0>"
      ]
     },
     "execution_count": 14,
     "metadata": {},
     "output_type": "execute_result"
    }
   ],
   "source": [
    "img_path = 'testing\\calib1_001.tif'\n",
    "data_path = 'testing\\calib25-11-19_data.txt'\n",
    "observing_angle = 45\n",
    "\n",
    "data = np.loadtxt(data_path, delimiter='\\t', skiprows=1)\n",
    "dwell_times = data[:, 0]\n",
    "\n",
    "img = read_image(img_path)\n",
    "plt.imshow(img)"
   ]
  },
  {
   "cell_type": "markdown",
   "id": "80ee069f",
   "metadata": {},
   "source": [
    "### Set the scale"
   ]
  },
  {
   "cell_type": "code",
   "execution_count": 15,
   "id": "33974bc0",
   "metadata": {},
   "outputs": [
    {
     "name": "stdout",
     "output_type": "stream",
     "text": [
      "83, 22\n",
      "402, 22\n"
     ]
    }
   ],
   "source": [
    "tracker = select_scale(img)"
   ]
  },
  {
   "cell_type": "code",
   "execution_count": 16,
   "id": "761eb6f8",
   "metadata": {},
   "outputs": [
    {
     "name": "stdout",
     "output_type": "stream",
     "text": [
      "Pixels per nanometer:  159.76774193548388\n"
     ]
    }
   ],
   "source": [
    "scale_bar_size = 2 # in um\n",
    "\n",
    "scale_bar_px = np.abs(tracker.scale_markers[1] - tracker.scale_markers[0])\n",
    "ppn = scale_bar_px / scale_bar_size\n",
    "print('Pixels per nanometer: ', ppn)"
   ]
  },
  {
   "cell_type": "markdown",
   "id": "a6c14d3e",
   "metadata": {},
   "source": [
    "### Process calibration image"
   ]
  },
  {
   "cell_type": "code",
   "execution_count": 17,
   "id": "5c9d71d8",
   "metadata": {
    "scrolled": true
   },
   "outputs": [
    {
     "data": {
      "text/plain": [
       "<matplotlib.image.AxesImage at 0x23687b2a310>"
      ]
     },
     "execution_count": 17,
     "metadata": {},
     "output_type": "execute_result"
    }
   ],
   "source": [
    "# remove the bar and threshold the image\n",
    "img_nobar = remove_bottom_bar(img)\n",
    "img_thresh = threshold_image(img_nobar, thresh=None)\n",
    "# try_all_threshold(img_smooth)\n",
    "plt.imshow(img_thresh)"
   ]
  },
  {
   "cell_type": "code",
   "execution_count": 18,
   "id": "b2bcc0f9",
   "metadata": {},
   "outputs": [
    {
     "data": {
      "text/plain": [
       "<matplotlib.image.AxesImage at 0x2368af39310>"
      ]
     },
     "execution_count": 18,
     "metadata": {},
     "output_type": "execute_result"
    }
   ],
   "source": [
    "# label image regions\n",
    "label_image, image_label_overlay = get_labelled_image(img_thresh)\n",
    "labels = filter_small_labels(label_image)\n",
    "image_label_overlay = label2rgb(label_image, image=img_thresh, bg_label=0)\n",
    "plt.imshow(image_label_overlay)"
   ]
  },
  {
   "cell_type": "code",
   "execution_count": 19,
   "id": "52fbf5ab",
   "metadata": {},
   "outputs": [],
   "source": [
    "# get lengths of the structures\n",
    "lengths_px = get_lengths_px(label_image)\n",
    "lengths_perspective = np.sort(lengths_px) / ppn\n",
    "lengths_true = lengths_perspective / np.sin(np.deg2rad(observing_angle))\n",
    "dwell_times = dwell_times[-lengths_true.size:]"
   ]
  },
  {
   "cell_type": "markdown",
   "id": "496664ff",
   "metadata": {},
   "source": [
    "### Fit the model"
   ]
  },
  {
   "cell_type": "code",
   "execution_count": 20,
   "id": "7f717e5e",
   "metadata": {},
   "outputs": [
    {
     "name": "stdout",
     "output_type": "stream",
     "text": [
      "GR:  0.2004078075979183\n",
      "k:  1.124924456066574\n"
     ]
    }
   ],
   "source": [
    "# fit the deposit model and get the parameters\n",
    "deposit_model, popt, _ = DDModel.fit_calibration(dwell_times, lengths_true)\n",
    "\n",
    "t = np.linspace(0, np.max(dwell_times), 1000)\n",
    "plt.figure()\n",
    "plt.plot(t, deposit_model(t, *popt), color='tab:orange', linewidth=2)\n",
    "plt.scatter(dwell_times, lengths_true)\n",
    "plt.xlabel('t [s]')\n",
    "plt.ylabel(r'Length [$\\mu$m]');"
   ]
  },
  {
   "cell_type": "markdown",
   "id": "1e631b4c",
   "metadata": {},
   "source": [
    "### Get the sigma calibration structures if necessary"
   ]
  },
  {
   "cell_type": "code",
   "execution_count": 11,
   "id": "95587faf",
   "metadata": {
    "scrolled": false
   },
   "outputs": [
    {
     "name": "stdout",
     "output_type": "stream",
     "text": [
      "Solving for dwells...\n",
      "Slicing...\n",
      "Sliced\n",
      "Solved\n",
      "Solving for dwells...\n",
      "Solved\n",
      "Solving for dwells...\n",
      "Solved\n",
      "Solving for dwells...\n",
      "Solved\n",
      "Solving for dwells...\n",
      "Slicing...\n",
      "Sliced\n",
      "Solved\n",
      "Total time:  0:01:33.630782\n"
     ]
    }
   ],
   "source": [
    "# model = DDModel(gr=popt[0], k=popt[1], sigma=None)\n",
    "model = RRLModel(None, gr=popt[0], sigma=None)\n",
    "sigma_list = [3, 4, 5, 6]\n",
    "file_path = \"sigma_calib\"\n",
    "\n",
    "sigma_strm = get_sigma_structures(model, sigma_list)\n",
    "sigma_strm.print_time()\n",
    "\n",
    "sigma_strm.write(create_safe_savename(file_path))"
   ]
  },
  {
   "cell_type": "code",
   "execution_count": 12,
   "id": "e788a1cf",
   "metadata": {},
   "outputs": [],
   "source": [
    "sigma_strm.show_on_screen()"
   ]
  },
  {
   "cell_type": "code",
   "execution_count": null,
   "id": "a5ba586e",
   "metadata": {},
   "outputs": [],
   "source": []
  }
 ],
 "metadata": {
  "kernelspec": {
   "display_name": "Python 3",
   "language": "python",
   "name": "python3"
  },
  "language_info": {
   "codemirror_mode": {
    "name": "ipython",
    "version": 3
   },
   "file_extension": ".py",
   "mimetype": "text/x-python",
   "name": "python",
   "nbconvert_exporter": "python",
   "pygments_lexer": "ipython3",
   "version": "3.8.5"
  },
  "toc": {
   "base_numbering": 1,
   "nav_menu": {},
   "number_sections": true,
   "sideBar": true,
   "skip_h1_title": false,
   "title_cell": "Table of Contents",
   "title_sidebar": "Contents",
   "toc_cell": true,
   "toc_position": {},
   "toc_section_display": true,
   "toc_window_display": false
  }
 },
 "nbformat": 4,
 "nbformat_minor": 5
}
