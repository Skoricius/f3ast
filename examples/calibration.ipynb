{
 "cells": [
  {
   "cell_type": "markdown",
   "id": "db91fcd0-50f8-4fff-aaf1-47b7b33a39d8",
   "metadata": {},
   "source": [
    "# Calibration"
   ]
  },
  {
   "cell_type": "code",
   "execution_count": null,
   "id": "fda65af0",
   "metadata": {},
   "outputs": [],
   "source": [
    "import f3ast\n",
    "import numpy as np\n",
    "import matplotlib.pyplot as plt"
   ]
  },
  {
   "cell_type": "markdown",
   "id": "70ab8405",
   "metadata": {},
   "source": [
    "## Export calibration stream"
   ]
  },
  {
   "cell_type": "code",
   "execution_count": null,
   "id": "a16a434a",
   "metadata": {},
   "outputs": [],
   "source": [
    "calib_strm_savepath = \"calibstrm\"\n",
    "\n",
    "# create safe filename to prevent overwriting\n",
    "calib_strm_savepath = f3ast.create_safe_savename(calib_strm_savepath)\n",
    "f3ast.export_spot_calibration(\n",
    "    calib_strm_savepath, start_time=1, end_time=15, grid=[5, 3]\n",
    ")\n"
   ]
  },
  {
   "cell_type": "markdown",
   "id": "260054e1-c5e4-4c24-96da-e9c3e9e44535",
   "metadata": {},
   "source": [
    "## Get calibration data from SEM image"
   ]
  },
  {
   "cell_type": "markdown",
   "id": "36b00c7f",
   "metadata": {},
   "source": [
    "### Load SEM image and calibration reference data"
   ]
  },
  {
   "cell_type": "code",
   "execution_count": null,
   "id": "2167d6e4",
   "metadata": {},
   "outputs": [],
   "source": [
    "img_path = \"calib1_001.tif\"\n",
    "data_path = \"calib25-11-19_data.txt\"\n",
    "observing_angle = 45\n",
    "\n",
    "data = np.loadtxt(data_path, delimiter=\"\\t\", skiprows=1)\n",
    "dwell_times = data[:, 0]\n",
    "\n",
    "img = f3ast.read_image(img_path)\n",
    "plt.imshow(img)"
   ]
  },
  {
   "cell_type": "markdown",
   "id": "80ee069f",
   "metadata": {},
   "source": [
    "### Set the scale on SEM image (interactive)"
   ]
  },
  {
   "cell_type": "code",
   "execution_count": null,
   "id": "33974bc0",
   "metadata": {},
   "outputs": [],
   "source": [
    "# scale_boundaries give upper left corner of scale bar region, as fraction of image size\n",
    "scale_boundaries = (0.6, 0.93)\n",
    "scale_bar_size, observing_angle = 2., 45. # in um, deg\n",
    "\n",
    "# need to use qt backend for interactive scale bar selection\n",
    "# click at ends of scale bar to get the relation between pixel size and physical length\n",
    "%matplotlib qt \n",
    "tracker = f3ast.select_scale(img, scale_boundaries=scale_boundaries)"
   ]
  },
  {
   "cell_type": "code",
   "execution_count": null,
   "id": "761eb6f8",
   "metadata": {},
   "outputs": [],
   "source": [
    "scale_bar_px = np.abs(tracker.scale_markers[1] - tracker.scale_markers[0])\n",
    "ppn = scale_bar_px / scale_bar_size\n",
    "print(f\"{ppn:.1f} pixels per micrometer\")\n"
   ]
  },
  {
   "cell_type": "markdown",
   "id": "a6c14d3e",
   "metadata": {},
   "source": [
    "### Process calibration image"
   ]
  },
  {
   "cell_type": "code",
   "execution_count": null,
   "id": "2714686b-2494-479d-b77f-3df47caa2279",
   "metadata": {
    "scrolled": true
   },
   "outputs": [],
   "source": [
    "%matplotlib inline\n",
    "\n",
    "# remove the annotated region (= bottom scale boundary)\n",
    "img_nobar = f3ast.remove_bottom_bar(img, bottom_factor=scale_boundaries[1])\n",
    "# threshold the image to extract wire regions\n",
    "img_thresh = f3ast.threshold_image(img_nobar, thresh=None)\n",
    "\n",
    "# label image regions, corresponding to calibration wires\n",
    "label_image, image_label_overlay = f3ast.get_labelled_image(img_thresh)\n",
    "print(f'{len(np.unique(label_image)) - 1 } wires identified.')\n",
    "\n",
    "# filter out too small wires\n",
    "labels = f3ast.filter_small_labels(label_image, min_struct_size=300)\n",
    "print(f'{len(labels)} wires selected for analysis.')\n",
    "image_label_overlay = f3ast.label2rgb(label_image, image=img_thresh, bg_label=0)\n",
    "\n",
    "# show all recognised labels\n",
    "fig, ax = plt.subplots()\n",
    "ax.axis('off')\n",
    "ax.imshow(image_label_overlay)"
   ]
  },
  {
   "cell_type": "code",
   "execution_count": null,
   "id": "52fbf5ab",
   "metadata": {},
   "outputs": [],
   "source": [
    "# get real lengths of the wires (in um)\n",
    "lengths_px = f3ast.get_lengths_px(label_image)\n",
    "lengths_perspective = np.sort(lengths_px) / ppn\n",
    "lengths_true = lengths_perspective / np.sin(np.deg2rad(observing_angle))\n",
    "dwell_times = dwell_times[-lengths_true.size:]"
   ]
  },
  {
   "cell_type": "markdown",
   "id": "496664ff",
   "metadata": {},
   "source": [
    "### Fit the model"
   ]
  },
  {
   "cell_type": "code",
   "execution_count": null,
   "id": "7f717e5e",
   "metadata": {},
   "outputs": [],
   "source": [
    "# fit the deposit model and get the parameters\n",
    "deposit_model, popt, _ = f3ast.DDModel.fit_calibration(dwell_times, lengths_true)\n",
    "label = f\"$GR_0$ = {popt[0]*1e3:.0f} nm/s\\n$k$ = {popt[1]:.2f} 1/nm\"\n",
    "\n",
    "t = np.linspace(0, np.max(dwell_times), 1000)\n",
    "plt.figure()\n",
    "plt.plot(t, deposit_model(t, *popt), color=\"tab:orange\", linewidth=2, label=label)\n",
    "plt.scatter(dwell_times, lengths_true)\n",
    "plt.legend()\n",
    "plt.xlabel(\"t [s]\")\n",
    "plt.ylabel(r\"Length [$\\mu$m]\")\n"
   ]
  },
  {
   "cell_type": "markdown",
   "id": "1e631b4c",
   "metadata": {},
   "source": [
    "## Get the sigma calibration structures if necessary"
   ]
  },
  {
   "cell_type": "code",
   "execution_count": null,
   "id": "59661d63-127c-414e-abe7-dc1cc593ac53",
   "metadata": {},
   "outputs": [],
   "source": [
    "import f3ast\n",
    "import f3ast.calibration"
   ]
  },
  {
   "cell_type": "code",
   "execution_count": null,
   "id": "95587faf",
   "metadata": {
    "scrolled": true
   },
   "outputs": [],
   "source": [
    "# check that correct SEM settings are loaded, or define manually (see above)\n",
    "settings = f3ast.load_settings()\n",
    "\n",
    "# create model with GR0 fitted above\n",
    "# model = f3ast.RRLModel(struct=None, gr=popt[0], sigma=None)\n",
    "model = f3ast.RRLModel(struct=None, gr=1.0, sigma=None)\n",
    "sigma_list = [3, 4, 5, 6]\n",
    "file_path = \"sigma_calib\"\n",
    "\n",
    "# create sigma structures, and save calibration stream\n",
    "sigma_strm = f3ast.get_sigma_structures(model, sigma_list, settings)\n",
    "sigma_strm.print_time()\n",
    "sigma_strm.write(f3ast.create_safe_savename(file_path))\n",
    "sigma_strm.show_on_screen()\n"
   ]
  },
  {
   "cell_type": "code",
   "execution_count": null,
   "id": "b7bcaf3f-bf66-4bf0-94fb-64e8743c732f",
   "metadata": {},
   "outputs": [],
   "source": []
  }
 ],
 "metadata": {
  "kernelspec": {
   "display_name": "FEBID",
   "language": "python",
   "name": "febid"
  },
  "language_info": {
   "codemirror_mode": {
    "name": "ipython",
    "version": 3
   },
   "file_extension": ".py",
   "mimetype": "text/x-python",
   "name": "python",
   "nbconvert_exporter": "python",
   "pygments_lexer": "ipython3",
   "version": "3.10.9"
  },
  "toc": {
   "base_numbering": 1,
   "nav_menu": {},
   "number_sections": true,
   "sideBar": true,
   "skip_h1_title": false,
   "title_cell": "Table of Contents",
   "title_sidebar": "Contents",
   "toc_cell": true,
   "toc_position": {},
   "toc_section_display": true,
   "toc_window_display": false
  },
  "widgets": {
   "application/vnd.jupyter.widget-state+json": {
    "state": {},
    "version_major": 2,
    "version_minor": 0
   }
  }
 },
 "nbformat": 4,
 "nbformat_minor": 5
}
